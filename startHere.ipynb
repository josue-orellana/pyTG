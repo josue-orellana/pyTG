{
 "cells": [
  {
   "cell_type": "code",
   "execution_count": null,
   "source": [
    "#%% Importing modules and functions\n",
    "import numpy as np\n",
    "from numpy import pi\n",
    "import matplotlib.pyplot as plt\n",
    "from scipy.io import loadmat\n",
    "from funsTG import (torusGraphs, sampleTG, phaseLockingValue, compNodePairsNodes)\n",
    "import networkx as nx"
   ],
   "outputs": [],
   "metadata": {}
  },
  {
   "cell_type": "code",
   "execution_count": null,
   "source": [
    "#%% load Data\n",
    "dataMat = loadmat('anglebeta.mat')\n",
    "X = dataMat['anglebeta']"
   ],
   "outputs": [],
   "metadata": {}
  },
  {
   "cell_type": "code",
   "execution_count": null,
   "source": [
    "# explicitly set node positions\n",
    "posNodes = {0: (21, 5), 1: (22, 4.7), 2: (23, 5), 3: (24, 4.7), 4: (25, 5), \\\n",
    "        5: (2, 6), 6: (3, 5.7), 7: (4, 6), 8: (5, 5.7), 9: (6, 6), 10: (7, 5.7), 11: (8, 6), 12: (9, 5.7), \\\n",
    "        13: (-2, 4), 14: (-1, 3.7), 15: (0, 4),\\\n",
    "        16: (12, 3), 17: (13, 2.7), 18: (14, 3), 19: (15, 2.7), 20: (16, 3), 21: (17, 2.7), 22: (18, 3), 23: (19, 2.7)}\n",
    "posNodeGroup = {'CA3': (21, 5), 'DG': (2, 6), 'Sub': (-2, 4), 'PFCv': (12, 3)}\n",
    "\n",
    "nodeGroupLabels= [x[0].tolist().pop() for x in dataMat['subregions']]\n",
    "groupLabels = ('CA3', 'DG', 'Sub', 'PFCv')"
   ],
   "outputs": [],
   "metadata": {}
  },
  {
   "cell_type": "code",
   "execution_count": null,
   "source": [
    "# Fit torus graphs model\n",
    "selMode = (True, True, False)\n",
    "nodeGraph, groupNodeGraph, num, nodePairs, groupNodePairs, phiHat, covPhiHat \\\n",
    "    = torusGraphs(X, edgesAlphaLevel=0.05, selMode=selMode, groupLabels = groupLabels, nodeGroupLabels = nodeGroupLabels, groupEdgesAlphaLevel=0.001/6)"
   ],
   "outputs": [],
   "metadata": {}
  },
  {
   "cell_type": "code",
   "execution_count": null,
   "source": [
    "# Network with individual electrodes as nodes\n",
    "fig, ax= plt.subplots(1,2)\n",
    "plt.axes(ax[0])\n",
    "nx.draw_networkx(nodeGraph, posNodes)\n",
    "ax[0].margins(0.20)\n",
    "plt.text(23,5.5,'CA3', fontsize = 13)\n",
    "plt.text(3.5,6.5,'DG', fontsize = 13)\n",
    "plt.text(-10,4.3,'Sub', fontsize = 13)\n",
    "plt.text(12,2.1,'PFCv', fontsize = 13)\n",
    "ax[0].set_aspect(1/ax[0].get_data_ratio())\n",
    "plt.axis(\"off\")\n",
    "plt.axes(ax[1])\n",
    "plt.imshow(nx.to_numpy_matrix(nodeGraph))\n",
    "plt.show()\n",
    "\n",
    "options = {\n",
    "    \"font_size\": 20,\n",
    "    \"node_size\": 5000,\n",
    "    \"node_color\": \"white\",\n",
    "    \"edgecolors\": \"black\",\n",
    "    \"linewidths\": 5,\n",
    "    \"width\": 5,\n",
    "}"
   ],
   "outputs": [],
   "metadata": {}
  },
  {
   "cell_type": "code",
   "execution_count": null,
   "source": [
    "# Netwoork with brain sub-regions as nodes\n",
    "nx.draw_networkx(groupNodeGraph, posNodeGroup, **options)\n",
    "ax = plt.gca()\n",
    "ax.margins(0.40)\n",
    "plt.axis(\"off\")\n",
    "plt.show()"
   ],
   "outputs": [],
   "metadata": {}
  },
  {
   "cell_type": "code",
   "execution_count": null,
   "source": [
    "#%% Gibbs sampling from TG\n",
    "numSamp = {'nodes':num['nodes'], 'trials': 1}\n",
    "Xsampled = sampleTG(numSamp, phiHat, nodePairs, selMode = selMode,\\\n",
    "             burnIn = 500, nThin = 100)\n",
    "\n",
    "plt.plot(Xsampled,'ko')\n",
    "plt.xlabel('Electrodes')\n",
    "plt.ylabel('Phase angles')\n",
    "plt.ylim([-pi, pi])\n",
    "plt.show()"
   ],
   "outputs": [],
   "metadata": {}
  },
  {
   "cell_type": "code",
   "execution_count": null,
   "source": [
    "#%% Another example of TG sampling\n",
    "numSamp = {'nodes':2, 'trials': 1000}\n",
    "nodePairs = {'nodes' : np.array([[0,1]])}\n",
    "newPhi = np.block([ 0, 0, 0, 0, 8*np.cos(pi), 8*np.sin(pi), 0, 0 ])\n",
    "Xsampled = sampleTG(numSamp, newPhi, nodePairs)\n",
    "plt.plot(Xsampled[0,:], Xsampled[1,:], 'ko')\n",
    "plt.xlabel('X1', fontsize=14)\n",
    "plt.ylabel('X2', fontsize=14)\n",
    "plt.show()"
   ],
   "outputs": [],
   "metadata": {}
  },
  {
   "cell_type": "code",
   "execution_count": null,
   "source": [
    "# %%  PLV, 24dim network graph, figures S8\n",
    "num = {'nodes': X.shape[0]}\n",
    "nodePairs = {'nodes':compNodePairsNodes(num['nodes'])}\n",
    "plv, plvPvals = phaseLockingValue(X, nodePairs)\n",
    "\n",
    "plvPairsElecActive = nodePairs['nodes'][plvPvals <= 0.0005, :]\n",
    "\n",
    "plvGraph = nx.Graph()\n",
    "plvGraph.add_nodes_from(range(num['nodes']))\n",
    "plvGraph.add_edges_from(plvPairsElecActive)\n",
    "\n",
    "fig, ax= plt.subplots(1,2)\n",
    "plt.axes(ax[0])\n",
    "nx.draw_networkx(plvGraph, posNodes)\n",
    "plt.text(23,5.5,'CA3', fontsize = 13)\n",
    "plt.text(3.5,6.5,'DG', fontsize = 13)\n",
    "plt.text(-10,4.3,'Sub', fontsize = 13)\n",
    "plt.text(12,2.1,'PFCv', fontsize = 13)\n",
    "ax[0].set_aspect(1/ax[0].get_data_ratio())\n",
    "plt.axis(\"off\")\n",
    "plt.axes(ax[1])\n",
    "plt.imshow(nx.to_numpy_matrix(plvGraph))\n",
    "plt.show()\n"
   ],
   "outputs": [],
   "metadata": {}
  },
  {
   "cell_type": "code",
   "execution_count": null,
   "source": [
    "# %% Conditional coupling, case of phase difference model with uniform margins, \n",
    "# see Section 4.4. in the paper.\n",
    "selMode = (False, True, False)\n",
    "nodeGraph, groupNodeGraph, num, nodePairs, groupNodePairs, phiHat, covPhiHat \\\n",
    "    = torusGraphs(X, edgesAlphaLevel=0.05, selMode=selMode,\n",
    "                    groupLabels = groupLabels,\n",
    "                    nodeGroupLabels = nodeGroupLabels,\n",
    "                    groupEdgesAlphaLevel=0.001/6)\n",
    "\n",
    "activeLogical = nodePairs['pVals'] <= 0.05\n",
    "\n",
    "edgeWidth = nodePairs['condCoupling'][activeLogical]\n",
    "\n",
    "weigthedActiveEdges = np.zeros((sum(activeLogical), 3))\n",
    "weigthedActiveEdges[:,:2] = nodePairs['nodes'][activeLogical]\n",
    "weigthedActiveEdges[:,2] = edgeWidth\n",
    "\n",
    "scaling_factor = 3\n",
    "\n",
    "condCouplingGraph = nx.Graph()\n",
    "condCouplingGraph.add_nodes_from(range(num['nodes']))\n",
    "condCouplingGraph.add_weighted_edges_from(weigthedActiveEdges)\n",
    "\n",
    "fig, ax= plt.subplots(1,2)\n",
    "plt.axes(ax[0])\n",
    "nx.draw_networkx(condCouplingGraph, posNodes, width=scaling_factor*edgeWidth)\n",
    "plt.text(23,5.5,'CA3', fontsize = 13)\n",
    "plt.text(3.5,6.5,'DG', fontsize = 13)\n",
    "plt.text(-10,4.3,'Sub', fontsize = 13)\n",
    "plt.text(12,2.1,'PFCv', fontsize = 13)\n",
    "ax[0].set_aspect(1/ax[0].get_data_ratio())\n",
    "plt.axis(\"off\")\n",
    "plt.axes(ax[1])\n",
    "plt.imshow(nx.to_numpy_matrix(condCouplingGraph))\n",
    "plt.colorbar()\n",
    "plt.set_cmap('jet')\n",
    "plt.show()"
   ],
   "outputs": [],
   "metadata": {}
  }
 ],
 "metadata": {
  "orig_nbformat": 4,
  "language_info": {
   "name": "python"
  }
 },
 "nbformat": 4,
 "nbformat_minor": 2
}